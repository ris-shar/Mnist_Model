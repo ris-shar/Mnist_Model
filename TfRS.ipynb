{
  "cells": [
    {
      "cell_type": "markdown",
      "metadata": {
        "id": "view-in-github",
        "colab_type": "text"
      },
      "source": [
        "<a href=\"https://colab.research.google.com/github/ris-shar/Mnist_Model/blob/main/TfRS.ipynb\" target=\"_parent\"><img src=\"https://colab.research.google.com/assets/colab-badge.svg\" alt=\"Open In Colab\"/></a>"
      ]
    },
    {
      "cell_type": "code",
      "execution_count": null,
      "metadata": {
        "id": "dApopduIJIm2"
      },
      "outputs": [],
      "source": []
    },
    {
      "cell_type": "code",
      "execution_count": null,
      "metadata": {
        "id": "CFAReAKYJQii"
      },
      "outputs": [],
      "source": [
        "# from google.colab import drive\n",
        "# drive.mount('/content/drive')"
      ]
    },
    {
      "cell_type": "markdown",
      "metadata": {
        "id": "RCU7dNjq9mft"
      },
      "source": []
    },
    {
      "cell_type": "code",
      "execution_count": null,
      "metadata": {
        "id": "4zUjfZP-JRa9"
      },
      "outputs": [],
      "source": [
        "#importing lib\n",
        "import tensorflow as tf\n",
        "import matplotlib\n",
        "\n",
        "\n"
      ]
    },
    {
      "cell_type": "code",
      "execution_count": null,
      "metadata": {
        "id": "o_M4t13b-X3k"
      },
      "outputs": [],
      "source": [
        "# input = tf.keras.Input(shape=(784,))"
      ]
    },
    {
      "cell_type": "code",
      "execution_count": null,
      "metadata": {
        "colab": {
          "base_uri": "https://localhost:8080/"
        },
        "id": "iJ2mPm4N0Nq3",
        "outputId": "34d6faad-85f4-409c-feaf-414f87e586fa"
      },
      "outputs": [
        {
          "output_type": "stream",
          "name": "stdout",
          "text": [
            "Downloading data from https://storage.googleapis.com/tensorflow/tf-keras-datasets/mnist.npz\n",
            "11490434/11490434 [==============================] - 0s 0us/step\n",
            "(60000, 28, 28)\n"
          ]
        }
      ],
      "source": [
        "#getting the mnist data\n",
        "mnist = tf.keras.datasets.mnist\n",
        "(x_train, y_train),(x_test, y_test) = mnist.load_data()\n",
        "x_train = tf.keras.utils.normalize(x_train, axis=1)\n",
        "x_test = tf.keras.utils.normalize(x_test, axis=1)\n",
        "au = x_test\n",
        "print(x_train.shape)"
      ]
    },
    {
      "cell_type": "code",
      "execution_count": null,
      "metadata": {
        "id": "2uRGxObmwQdU"
      },
      "outputs": [],
      "source": [
        "#Making a class for z and then activating it with relu\n",
        "class Linear(tf.keras.layers.Layer):\n",
        "  def __init__(self, units, input_dim):\n",
        "    super(Linear, self).__init__()\n",
        "    self.units = units\n",
        "    self.input_dim = input_dim\n",
        "    self.w = self.add_weight(shape=(self.input_dim, self.units), initializer=\"random_normal\", trainable=True)\n",
        "    self.b = self.add_weight(shape=(self.units,), initializer=\"zeros\", trainable=True)\n",
        "  def call(self, inputs):\n",
        "    y = tf.matmul(inputs, self.w) + self.b\n",
        "    \n",
        "    \n",
        "    return y\n"
      ]
    },
    {
      "cell_type": "code",
      "execution_count": null,
      "metadata": {
        "colab": {
          "base_uri": "https://localhost:8080/"
        },
        "id": "Hc4bO7lP4kDj",
        "outputId": "3154d480-dfe5-4c16-ed0b-5185224c0399"
      },
      "outputs": [
        {
          "output_type": "stream",
          "name": "stdout",
          "text": [
            "KerasTensor(type_spec=TensorSpec(shape=(None, 10), dtype=tf.float32, name=None), name='mlp_block/linear_2/add:0', description=\"created by layer 'mlp_block'\")\n"
          ]
        }
      ],
      "source": [
        "#A class to make layers and activate\n",
        "class MLPBlock(tf.keras.layers.Layer):\n",
        "  def __init__(self):\n",
        "    super(MLPBlock, self).__init__()\n",
        "    self.linear_a = Linear(128, 784)\n",
        "    self.linear_b = Linear(128, 128)\n",
        "    self.linear_c = Linear(10, 128)\n",
        "\n",
        "  def call(self, inputs):\n",
        "    x = self.linear_a(inputs)\n",
        "    y = tf.nn.relu(x)\n",
        "    x1 = self.linear_b(y)\n",
        "    y1 = tf.nn.relu(x1)\n",
        "    x2 = self.linear_b(y1)\n",
        "    y2 = tf.nn.softmax(x2)\n",
        "    return self.linear_c(y2)\n",
        "\n",
        "x_train = x_train.reshape((60000, 784))\n",
        "input = tf.keras.Input(shape=(784,))\n",
        "mlp = MLPBlock()\n",
        "output = mlp(input)\n",
        "print(output)\n"
      ]
    },
    {
      "cell_type": "code",
      "execution_count": null,
      "metadata": {
        "id": "uBcRUETDFabG"
      },
      "outputs": [],
      "source": [
        "model = tf.keras.Model(inputs=input, outputs=output)"
      ]
    },
    {
      "cell_type": "code",
      "execution_count": null,
      "metadata": {
        "id": "CCLxpvg9PZqU"
      },
      "outputs": [],
      "source": [
        "model.compile(optimizer = 'adam',\n",
        "              loss = 'sparse_categorical_crossentropy',\n",
        "              metrics = ['accuracy'])"
      ]
    },
    {
      "cell_type": "code",
      "execution_count": null,
      "metadata": {
        "colab": {
          "base_uri": "https://localhost:8080/"
        },
        "id": "PeTub2-iR0N1",
        "outputId": "193cbe48-7a25-4f98-e358-08ac468dbea8"
      },
      "outputs": [
        {
          "output_type": "stream",
          "name": "stdout",
          "text": [
            "Epoch 1/3\n",
            "1875/1875 [==============================] - 5s 2ms/step - loss: 2.3291 - accuracy: 0.1157\n",
            "Epoch 2/3\n",
            "1875/1875 [==============================] - 4s 2ms/step - loss: 2.3026 - accuracy: 0.1161\n",
            "Epoch 3/3\n",
            "1875/1875 [==============================] - 4s 2ms/step - loss: 2.3026 - accuracy: 0.1161\n"
          ]
        },
        {
          "output_type": "execute_result",
          "data": {
            "text/plain": [
              "(10000,)"
            ]
          },
          "metadata": {},
          "execution_count": 8
        }
      ],
      "source": [
        "epochs = 3\n",
        "model.fit(x_train, y_train, epochs=epochs)\n",
        "y_test.shape"
      ]
    },
    {
      "cell_type": "code",
      "execution_count": null,
      "metadata": {
        "colab": {
          "base_uri": "https://localhost:8080/"
        },
        "id": "5Kx7tRiISW-1",
        "outputId": "2aa967ce-f3bd-4a34-cec9-ba90c2cec671"
      },
      "outputs": [
        {
          "output_type": "stream",
          "name": "stdout",
          "text": [
            "(784,)\n",
            "313/313 [==============================] - 0s 1ms/step\n",
            "[-0.01868378 -0.0158064  -0.00961277 -0.00236997 -0.00241577 -0.01133318\n",
            " -0.00355429 -0.00653467 -0.01797369 -0.0159423 ] 7\n"
          ]
        }
      ],
      "source": [
        "x_test = x_test.reshape((10000, 28*28 ))\n",
        "print(x_test[0].shape)\n",
        "pred = model.predict(x_test)\n",
        "print(pred[0], y_test[0])"
      ]
    },
    {
      "cell_type": "code",
      "execution_count": null,
      "metadata": {
        "colab": {
          "base_uri": "https://localhost:8080/",
          "height": 301
        },
        "id": "vFIlb9sL5IcL",
        "outputId": "93ceb582-d0c3-472f-ae4b-14d9f1cca46f"
      },
      "outputs": [
        {
          "output_type": "stream",
          "name": "stdout",
          "text": [
            "7\n"
          ]
        },
        {
          "output_type": "execute_result",
          "data": {
            "text/plain": [
              "<matplotlib.image.AxesImage at 0x7ff34eeb5730>"
            ]
          },
          "metadata": {},
          "execution_count": 10
        },
        {
          "output_type": "display_data",
          "data": {
            "text/plain": [
              "<Figure size 432x288 with 1 Axes>"
            ],
            "image/png": "[encoded data removed]"
          },
          "metadata": {
            "needs_background": "light"
          }
        }
      ],
      "source": [
        "import matplotlib.pyplot as plt\n",
        "print(y_test[0])\n",
        "plt.imshow(au[0])"
      ]
    },
    {
      "cell_type": "code",
      "execution_count": null,
      "metadata": {
        "id": "LqbOrrXAJYnG"
      },
      "outputs": [],
      "source": [
        "# #making layers using Linear class\n",
        "# layer_a = Linear(784, x_train.shape[0])(input)\n",
        "# layer_b = Linear(10, x_train.shape[0])(layer_a)\n",
        "# layer_c = Linear(10, x_train.shape[0])(layer_b)\n",
        "\n",
        "\n"
      ]
    },
    {
      "cell_type": "code",
      "execution_count": null,
      "metadata": {
        "id": "WGUjQhSZKj-T"
      },
      "outputs": [],
      "source": [
        "# x_train[0]"
      ]
    },
    {
      "cell_type": "code",
      "execution_count": null,
      "metadata": {
        "id": "oM9Sy3kM33Py"
      },
      "outputs": [],
      "source": [
        "#making dense layers using sequential\n",
        "# dense = tf.keras.layers.Dense(64, activation=\"relu\")\n",
        "# x = dense(x_train)"
      ]
    },
    {
      "cell_type": "code",
      "execution_count": null,
      "metadata": {
        "id": "cYUDZxPwK3oz"
      },
      "outputs": [],
      "source": [
        "# print(x_train.shape)\n",
        "# print(y_train.shape)\n",
        "# print(x)"
      ]
    },
    {
      "cell_type": "code",
      "execution_count": null,
      "metadata": {
        "id": "2M6PTTv600yk"
      },
      "outputs": [],
      "source": [
        "# assert linear_layer.weights == [linear_layer.w, linear_layer.b]"
      ]
    },
    {
      "cell_type": "code",
      "execution_count": null,
      "metadata": {
        "id": "lI1aVNUA2h_C"
      },
      "outputs": [],
      "source": [
        "# linear_layer = Linear(32, 2)"
      ]
    },
    {
      "cell_type": "code",
      "execution_count": null,
      "metadata": {
        "id": "gC2C7jaYLcPY"
      },
      "outputs": [],
      "source": [
        "# x_train = tf.keras.utils.normalize(x_train, axis=1)\n",
        "# x_test = tf.keras.utils.normalize(x_test, axis=1) "
      ]
    },
    {
      "cell_type": "code",
      "execution_count": null,
      "metadata": {
        "id": "kSpo8vM3Lv7i"
      },
      "outputs": [],
      "source": [
        "# model = tf.keras.models.Sequential()"
      ]
    },
    {
      "cell_type": "code",
      "execution_count": null,
      "metadata": {
        "id": "ud6cNp4IMfRq"
      },
      "outputs": [],
      "source": [
        "# model.add(tf.keras.layers.Flatten())\n"
      ]
    },
    {
      "cell_type": "code",
      "execution_count": null,
      "metadata": {
        "id": "E0b0Cw-1OIci"
      },
      "outputs": [],
      "source": [
        "# model.add(tf.keras.layers.Dense(128, activation='relu'))\n",
        "# model.add(tf.keras.layers.Dense(128, activation='relu'))\n",
        "# model.add(tf.keras.layers.Dense(10, activation='softmax'))"
      ]
    },
    {
      "cell_type": "code",
      "execution_count": null,
      "metadata": {
        "id": "7PpTdIvISNP6"
      },
      "outputs": [],
      "source": [
        "# val_loss, val_acc = model.evaluate(x_test, y_test)\n",
        "# print(val_loss, val_acc)"
      ]
    },
    {
      "cell_type": "code",
      "execution_count": null,
      "metadata": {
        "id": "io7xp4CN5eJz"
      },
      "outputs": [],
      "source": [
        "# model.save('numer_reader.model')"
      ]
    },
    {
      "cell_type": "code",
      "execution_count": null,
      "metadata": {
        "id": "X5HxCzDc51tS"
      },
      "outputs": [],
      "source": [
        "#  def build(self, input_shape):\n",
        "#       self.w = self.add_weight(shape=(input_shape[-1], self.units),\n",
        "#                                initializer='random_normal',\n",
        "#                                trainable=True)"
      ]
    },
    {
      "cell_type": "code",
      "execution_count": null,
      "metadata": {
        "id": "nYR5mnbu01AE"
      },
      "outputs": [],
      "source": [
        "# class L"
      ]
    },
    {
      "cell_type": "code",
      "execution_count": null,
      "metadata": {
        "id": "vqzbqWL81Nxi"
      },
      "outputs": [],
      "source": []
    }
  ],
  "metadata": {
    "colab": {
      "provenance": [],
      "authorship_tag": "ABX9TyO5KZnD5n9K5i+u+qQVfdhn",
      "include_colab_link": true
    },
    "kernelspec": {
      "display_name": "Python 3",
      "name": "python3"
    },
    "language_info": {
      "name": "python"
    }
  },
  "nbformat": 4,
  "nbformat_minor": 0
}